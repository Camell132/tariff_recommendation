{
 "cells": [
  {
   "cell_type": "markdown",
   "metadata": {},
   "source": [
    "# Рекомендация тарифов"
   ]
  },
  {
   "cell_type": "markdown",
   "metadata": {},
   "source": [
    "Оператор мобильной связи «Мегалайн» выяснил: многие клиенты пользуются архивными тарифами. Они хотят построить систему, способную проанализировать поведение клиентов и предложить пользователям новый тариф: «Смарт» или «Ультра».\n",
    "\n",
    "В вашем распоряжении данные о поведении клиентов, которые уже перешли на эти тарифы (из проекта курса «Статистический анализ данных»). Нужно построить модель для задачи классификации, которая выберет подходящий тариф. Предобработка данных не понадобится — вы её уже сделали.\n",
    "\n",
    "**Цель исследования** — построение предсказательной модели по выбору тарифа для конкретного клиента по используемым услугам с значением *accuracy* более 0.75.\n",
    "\n",
    "**Ход исследования**\n",
    "\n",
    "Данные о пользователях и используемых услугах находятся в файле `users_behavior.csv`. Заранее известно, что предобработка данных уже сделана, но обзор данных все равно необходисо произвести. \n",
    "\n",
    "На этапе анализа данных необходимо будет разделить выборку на обучающую, валидационную и тестовую выборки, исследовать качество разных моделей, меняя гиперпараметры и проверить качество модели уже на тестовой выборке. В качестве дополнительного задания необходимо проверить модель на вменяемость. \n",
    "\n",
    "Выполнить проверку гипотез.\n",
    " \n",
    "Таким образом, исследование пройдёт в пять этапов:\n",
    " 1. Обзор данных;\n",
    " 2. Исследовательский анализ данных и выбор лучшей модели;\n",
    " 3. Проверка модели на вменяемость."
   ]
  },
  {
   "cell_type": "markdown",
   "metadata": {},
   "source": [
    "## Откройте и изучите файл"
   ]
  },
  {
   "cell_type": "code",
   "execution_count": 1,
   "metadata": {},
   "outputs": [],
   "source": [
    "import pandas as pd\n",
    "from sklearn.tree import DecisionTreeClassifier\n",
    "from sklearn.ensemble import RandomForestClassifier\n",
    "from sklearn.linear_model import LogisticRegression\n",
    "from sklearn.metrics import accuracy_score\n",
    "from sklearn.model_selection import train_test_split\n",
    "from sklearn.dummy import DummyClassifier"
   ]
  },
  {
   "cell_type": "code",
   "execution_count": 2,
   "metadata": {
    "scrolled": true
   },
   "outputs": [
    {
     "data": {
      "text/html": [
       "<div>\n",
       "<style scoped>\n",
       "    .dataframe tbody tr th:only-of-type {\n",
       "        vertical-align: middle;\n",
       "    }\n",
       "\n",
       "    .dataframe tbody tr th {\n",
       "        vertical-align: top;\n",
       "    }\n",
       "\n",
       "    .dataframe thead th {\n",
       "        text-align: right;\n",
       "    }\n",
       "</style>\n",
       "<table border=\"1\" class=\"dataframe\">\n",
       "  <thead>\n",
       "    <tr style=\"text-align: right;\">\n",
       "      <th></th>\n",
       "      <th>calls</th>\n",
       "      <th>minutes</th>\n",
       "      <th>messages</th>\n",
       "      <th>mb_used</th>\n",
       "      <th>is_ultra</th>\n",
       "    </tr>\n",
       "  </thead>\n",
       "  <tbody>\n",
       "    <tr>\n",
       "      <td>0</td>\n",
       "      <td>40.0</td>\n",
       "      <td>311.90</td>\n",
       "      <td>83.0</td>\n",
       "      <td>19915.42</td>\n",
       "      <td>0</td>\n",
       "    </tr>\n",
       "    <tr>\n",
       "      <td>1</td>\n",
       "      <td>85.0</td>\n",
       "      <td>516.75</td>\n",
       "      <td>56.0</td>\n",
       "      <td>22696.96</td>\n",
       "      <td>0</td>\n",
       "    </tr>\n",
       "    <tr>\n",
       "      <td>2</td>\n",
       "      <td>77.0</td>\n",
       "      <td>467.66</td>\n",
       "      <td>86.0</td>\n",
       "      <td>21060.45</td>\n",
       "      <td>0</td>\n",
       "    </tr>\n",
       "    <tr>\n",
       "      <td>3</td>\n",
       "      <td>106.0</td>\n",
       "      <td>745.53</td>\n",
       "      <td>81.0</td>\n",
       "      <td>8437.39</td>\n",
       "      <td>1</td>\n",
       "    </tr>\n",
       "    <tr>\n",
       "      <td>4</td>\n",
       "      <td>66.0</td>\n",
       "      <td>418.74</td>\n",
       "      <td>1.0</td>\n",
       "      <td>14502.75</td>\n",
       "      <td>0</td>\n",
       "    </tr>\n",
       "    <tr>\n",
       "      <td>5</td>\n",
       "      <td>58.0</td>\n",
       "      <td>344.56</td>\n",
       "      <td>21.0</td>\n",
       "      <td>15823.37</td>\n",
       "      <td>0</td>\n",
       "    </tr>\n",
       "    <tr>\n",
       "      <td>6</td>\n",
       "      <td>57.0</td>\n",
       "      <td>431.64</td>\n",
       "      <td>20.0</td>\n",
       "      <td>3738.90</td>\n",
       "      <td>1</td>\n",
       "    </tr>\n",
       "    <tr>\n",
       "      <td>7</td>\n",
       "      <td>15.0</td>\n",
       "      <td>132.40</td>\n",
       "      <td>6.0</td>\n",
       "      <td>21911.60</td>\n",
       "      <td>0</td>\n",
       "    </tr>\n",
       "    <tr>\n",
       "      <td>8</td>\n",
       "      <td>7.0</td>\n",
       "      <td>43.39</td>\n",
       "      <td>3.0</td>\n",
       "      <td>2538.67</td>\n",
       "      <td>1</td>\n",
       "    </tr>\n",
       "    <tr>\n",
       "      <td>9</td>\n",
       "      <td>90.0</td>\n",
       "      <td>665.41</td>\n",
       "      <td>38.0</td>\n",
       "      <td>17358.61</td>\n",
       "      <td>0</td>\n",
       "    </tr>\n",
       "  </tbody>\n",
       "</table>\n",
       "</div>"
      ],
      "text/plain": [
       "   calls  minutes  messages   mb_used  is_ultra\n",
       "0   40.0   311.90      83.0  19915.42         0\n",
       "1   85.0   516.75      56.0  22696.96         0\n",
       "2   77.0   467.66      86.0  21060.45         0\n",
       "3  106.0   745.53      81.0   8437.39         1\n",
       "4   66.0   418.74       1.0  14502.75         0\n",
       "5   58.0   344.56      21.0  15823.37         0\n",
       "6   57.0   431.64      20.0   3738.90         1\n",
       "7   15.0   132.40       6.0  21911.60         0\n",
       "8    7.0    43.39       3.0   2538.67         1\n",
       "9   90.0   665.41      38.0  17358.61         0"
      ]
     },
     "metadata": {},
     "output_type": "display_data"
    },
    {
     "name": "stdout",
     "output_type": "stream",
     "text": [
      "<class 'pandas.core.frame.DataFrame'>\n",
      "RangeIndex: 3214 entries, 0 to 3213\n",
      "Data columns (total 5 columns):\n",
      "calls       3214 non-null float64\n",
      "minutes     3214 non-null float64\n",
      "messages    3214 non-null float64\n",
      "mb_used     3214 non-null float64\n",
      "is_ultra    3214 non-null int64\n",
      "dtypes: float64(4), int64(1)\n",
      "memory usage: 125.7 KB\n"
     ]
    },
    {
     "data": {
      "text/plain": [
       "None"
      ]
     },
     "metadata": {},
     "output_type": "display_data"
    },
    {
     "data": {
      "text/html": [
       "<div>\n",
       "<style scoped>\n",
       "    .dataframe tbody tr th:only-of-type {\n",
       "        vertical-align: middle;\n",
       "    }\n",
       "\n",
       "    .dataframe tbody tr th {\n",
       "        vertical-align: top;\n",
       "    }\n",
       "\n",
       "    .dataframe thead th {\n",
       "        text-align: right;\n",
       "    }\n",
       "</style>\n",
       "<table border=\"1\" class=\"dataframe\">\n",
       "  <thead>\n",
       "    <tr style=\"text-align: right;\">\n",
       "      <th></th>\n",
       "      <th>calls</th>\n",
       "      <th>minutes</th>\n",
       "      <th>messages</th>\n",
       "      <th>mb_used</th>\n",
       "      <th>is_ultra</th>\n",
       "    </tr>\n",
       "  </thead>\n",
       "  <tbody>\n",
       "    <tr>\n",
       "      <td>count</td>\n",
       "      <td>3214.000000</td>\n",
       "      <td>3214.000000</td>\n",
       "      <td>3214.000000</td>\n",
       "      <td>3214.000000</td>\n",
       "      <td>3214.000000</td>\n",
       "    </tr>\n",
       "    <tr>\n",
       "      <td>mean</td>\n",
       "      <td>63.038892</td>\n",
       "      <td>438.208787</td>\n",
       "      <td>38.281269</td>\n",
       "      <td>17207.673836</td>\n",
       "      <td>0.306472</td>\n",
       "    </tr>\n",
       "    <tr>\n",
       "      <td>std</td>\n",
       "      <td>33.236368</td>\n",
       "      <td>234.569872</td>\n",
       "      <td>36.148326</td>\n",
       "      <td>7570.968246</td>\n",
       "      <td>0.461100</td>\n",
       "    </tr>\n",
       "    <tr>\n",
       "      <td>min</td>\n",
       "      <td>0.000000</td>\n",
       "      <td>0.000000</td>\n",
       "      <td>0.000000</td>\n",
       "      <td>0.000000</td>\n",
       "      <td>0.000000</td>\n",
       "    </tr>\n",
       "    <tr>\n",
       "      <td>25%</td>\n",
       "      <td>40.000000</td>\n",
       "      <td>274.575000</td>\n",
       "      <td>9.000000</td>\n",
       "      <td>12491.902500</td>\n",
       "      <td>0.000000</td>\n",
       "    </tr>\n",
       "    <tr>\n",
       "      <td>50%</td>\n",
       "      <td>62.000000</td>\n",
       "      <td>430.600000</td>\n",
       "      <td>30.000000</td>\n",
       "      <td>16943.235000</td>\n",
       "      <td>0.000000</td>\n",
       "    </tr>\n",
       "    <tr>\n",
       "      <td>75%</td>\n",
       "      <td>82.000000</td>\n",
       "      <td>571.927500</td>\n",
       "      <td>57.000000</td>\n",
       "      <td>21424.700000</td>\n",
       "      <td>1.000000</td>\n",
       "    </tr>\n",
       "    <tr>\n",
       "      <td>max</td>\n",
       "      <td>244.000000</td>\n",
       "      <td>1632.060000</td>\n",
       "      <td>224.000000</td>\n",
       "      <td>49745.730000</td>\n",
       "      <td>1.000000</td>\n",
       "    </tr>\n",
       "  </tbody>\n",
       "</table>\n",
       "</div>"
      ],
      "text/plain": [
       "             calls      minutes     messages       mb_used     is_ultra\n",
       "count  3214.000000  3214.000000  3214.000000   3214.000000  3214.000000\n",
       "mean     63.038892   438.208787    38.281269  17207.673836     0.306472\n",
       "std      33.236368   234.569872    36.148326   7570.968246     0.461100\n",
       "min       0.000000     0.000000     0.000000      0.000000     0.000000\n",
       "25%      40.000000   274.575000     9.000000  12491.902500     0.000000\n",
       "50%      62.000000   430.600000    30.000000  16943.235000     0.000000\n",
       "75%      82.000000   571.927500    57.000000  21424.700000     1.000000\n",
       "max     244.000000  1632.060000   224.000000  49745.730000     1.000000"
      ]
     },
     "metadata": {},
     "output_type": "display_data"
    }
   ],
   "source": [
    "users = pd.read_csv('/datasets/users_behavior.csv')\n",
    "display(users.head(10))\n",
    "display(users.info())\n",
    "display(users.describe())"
   ]
  },
  {
   "cell_type": "markdown",
   "metadata": {},
   "source": [
    "Таблица **users**:\n",
    "* `сalls` — количество звонков,\n",
    "* `minutes` — суммарная длительность звонков в минутах,\n",
    "* `messages` — количество sms-сообщений,\n",
    "* `mb_used` — израсходованный интернет-трафик в Мб,\n",
    "* `is_ultra` — каким тарифом пользовался в течение месяца («Ультра» — 1, «Смарт» — 0)."
   ]
  },
  {
   "cell_type": "markdown",
   "metadata": {},
   "source": [
    "**Вывод**\n",
    "\n",
    "Данные уже предобработаны, пропусков нет, аномалии также не замечены."
   ]
  },
  {
   "cell_type": "markdown",
   "metadata": {},
   "source": [
    "## Разбейте данные на выборки"
   ]
  },
  {
   "cell_type": "markdown",
   "metadata": {},
   "source": [
    "Дважды применим функцию train_test_split, чтобы получить тренировочную, валидационную и тестовую выборку в соотношении 0.6:0.2:0.2"
   ]
  },
  {
   "cell_type": "code",
   "execution_count": 3,
   "metadata": {},
   "outputs": [
    {
     "name": "stdout",
     "output_type": "stream",
     "text": [
      "Величина тренировочной выборки: 1928\n",
      "Величина валидационной выборки: 643\n",
      "Величина тестовой выборки: 643\n"
     ]
    }
   ],
   "source": [
    "users_train, users_q = train_test_split(users, test_size=0.4, random_state=8)\n",
    "users_valid, users_test = train_test_split(users_q, test_size=0.5, random_state=8)\n",
    "print('Величина тренировочной выборки:', users_train.shape[0])\n",
    "print('Величина валидационной выборки:', users_valid.shape[0])\n",
    "print('Величина тестовой выборки:', users_test.shape[0])"
   ]
  },
  {
   "cell_type": "markdown",
   "metadata": {},
   "source": [
    "Разделим данные на признаки и целевые признаки"
   ]
  },
  {
   "cell_type": "code",
   "execution_count": 4,
   "metadata": {},
   "outputs": [],
   "source": [
    "train_features = users_train.drop('is_ultra', axis = 1)\n",
    "train_target = users_train['is_ultra']\n",
    "\n",
    "valid_features = users_valid.drop('is_ultra', axis = 1)\n",
    "valid_target = users_valid['is_ultra']\n",
    "\n",
    "test_features = users_test.drop('is_ultra', axis = 1)\n",
    "test_target = users_test['is_ultra']"
   ]
  },
  {
   "cell_type": "markdown",
   "metadata": {},
   "source": [
    "**Вывод**\n",
    "\n",
    "Данные разделены на тренировочную, валидационную и тестовую выборку в соотношении 0.6:0.2:0.2. Каждая выборка разделена на признаки и целевой признак."
   ]
  },
  {
   "cell_type": "markdown",
   "metadata": {},
   "source": [
    "## Исследуйте модели"
   ]
  },
  {
   "cell_type": "markdown",
   "metadata": {},
   "source": [
    "Начнем с модели \"решающее дерево\". Изменяя гиперпараметр \"max_depth\" с 1 до 50 определим наилучшую модель."
   ]
  },
  {
   "cell_type": "code",
   "execution_count": 5,
   "metadata": {},
   "outputs": [
    {
     "name": "stdout",
     "output_type": "stream",
     "text": [
      "Максимальное значение accuracy для модели DecisionTree на валидационной выборке = 0.8133748055987559 с max_depth = 5\n"
     ]
    }
   ],
   "source": [
    "best_accuracy = 0\n",
    "best_max_depth = 0\n",
    "for i in range(1, 51):\n",
    "    d_tree_model = DecisionTreeClassifier(max_depth = i, random_state = 8)\n",
    "    d_tree_model.fit(train_features, train_target)\n",
    "    prediction_valid = d_tree_model.predict(valid_features)\n",
    "    accuracy = accuracy_score(valid_target, prediction_valid)\n",
    "    if accuracy > best_accuracy:\n",
    "        best_accuracy = accuracy\n",
    "        best_max_depth = i\n",
    "print(f'Максимальное значение accuracy для модели DecisionTree на валидационной выборке = {best_accuracy} с max_depth = {best_max_depth}')"
   ]
  },
  {
   "cell_type": "markdown",
   "metadata": {},
   "source": [
    "Запомним соответствующие гиперпараметры для модели DecisionTree"
   ]
  },
  {
   "cell_type": "markdown",
   "metadata": {},
   "source": [
    "Продолжим моделью RandomForest. Здесь будем изменять два гипермараметра - это max_depth (максимальная глубина для каждого дерева) и n_estimators (число деревьев)."
   ]
  },
  {
   "cell_type": "code",
   "execution_count": 6,
   "metadata": {},
   "outputs": [
    {
     "name": "stdout",
     "output_type": "stream",
     "text": [
      "Максимальное значение accuracy для модели RandomForest на валидационной выборке = 0.8304821150855366 с max_depth = 10 и n_estimators = 9\n"
     ]
    }
   ],
   "source": [
    "best_est = 0\n",
    "best_depth = 0\n",
    "best_accuracy = 0\n",
    "for est in range(1, 51):\n",
    "    for depth in range (1, 15):\n",
    "        R_forest_model = RandomForestClassifier(max_depth = depth, n_estimators = est, random_state = 8)\n",
    "        R_forest_model.fit(train_features, train_target)\n",
    "        predictions_valid = R_forest_model.predict(valid_features)\n",
    "        accuracy = accuracy_score(valid_target, predictions_valid)\n",
    "        if accuracy > best_accuracy:\n",
    "            best_accuracy = accuracy\n",
    "            best_est = est\n",
    "            best_depth = depth\n",
    "print(f'Максимальное значение accuracy для модели RandomForest на валидационной выборке = {best_accuracy} с max_depth = {best_depth} и n_estimators = {best_est}')"
   ]
  },
  {
   "cell_type": "markdown",
   "metadata": {},
   "source": [
    "Модель LogisticRegression не имеет гиперпараметров, поэтому её можно проверять сразу на тестовой выборке. Стоит отметить, что для этой модели лучше делить данные на тренировочную и тестовую выборку в соотношении 0.75:0.25, так как модель более устойчива к переобучению и валидационную выборку можно не применять."
   ]
  },
  {
   "cell_type": "markdown",
   "metadata": {},
   "source": [
    "**Вывод**\n",
    "\n",
    "Для моделей определены гиперпараметры, при которых обученные модели дают наилучшие результаты:\n",
    "- Максимальное значение accuracy для модели DecisionTree на валидационной выборке = 0.8133748055987559 с max_depth = 5\n",
    "- Максимальное значение accuracy для модели RandomForest на валидационной выборке = 0.8304821150855366 с max_depth = 10 и n_estimators = 9"
   ]
  },
  {
   "cell_type": "markdown",
   "metadata": {},
   "source": [
    "## Проверьте модели на тестовой выборке"
   ]
  },
  {
   "cell_type": "markdown",
   "metadata": {},
   "source": [
    "Определим качество моделей на тестовой выборке"
   ]
  },
  {
   "cell_type": "code",
   "execution_count": 7,
   "metadata": {},
   "outputs": [
    {
     "name": "stdout",
     "output_type": "stream",
     "text": [
      "Значение accuracy для модели DecisionTree на тестовой выборке = 0.7698289269051322\n"
     ]
    }
   ],
   "source": [
    "d_tree_model = DecisionTreeClassifier(max_depth = 5, random_state = 8)\n",
    "d_tree_model.fit(train_features, train_target)\n",
    "prediction_test = d_tree_model.predict(test_features)\n",
    "accuracy = accuracy_score(test_target, prediction_test)\n",
    "print(f'Значение accuracy для модели DecisionTree на тестовой выборке = {accuracy}')"
   ]
  },
  {
   "cell_type": "code",
   "execution_count": 8,
   "metadata": {},
   "outputs": [
    {
     "name": "stdout",
     "output_type": "stream",
     "text": [
      "Значение accuracy для модели RandomForest на тестовой выборке = 0.7916018662519441\n"
     ]
    }
   ],
   "source": [
    "R_forest_model = RandomForestClassifier(max_depth = 10, n_estimators = 9, random_state = 8)\n",
    "R_forest_model.fit(train_features, train_target)\n",
    "prediction_test = R_forest_model.predict(test_features)\n",
    "accuracy = accuracy_score(test_target, prediction_test)\n",
    "print(f'Значение accuracy для модели RandomForest на тестовой выборке = {accuracy}')"
   ]
  },
  {
   "cell_type": "markdown",
   "metadata": {},
   "source": [
    "Для LogisticRegression разделим данные на две выборки и определим точность"
   ]
  },
  {
   "cell_type": "code",
   "execution_count": 9,
   "metadata": {},
   "outputs": [
    {
     "name": "stdout",
     "output_type": "stream",
     "text": [
      "Значение accuracy для модели LogisticRegression на тестовой выборке = 0.7400497512437811\n"
     ]
    },
    {
     "name": "stderr",
     "output_type": "stream",
     "text": [
      "/opt/conda/lib/python3.7/site-packages/sklearn/linear_model/logistic.py:432: FutureWarning: Default solver will be changed to 'lbfgs' in 0.22. Specify a solver to silence this warning.\n",
      "  FutureWarning)\n"
     ]
    }
   ],
   "source": [
    "usersl_train, usersl_test = train_test_split(users, test_size = 0.25, random_state = 8)\n",
    "\n",
    "train_features_L = usersl_train.drop('is_ultra', axis = 1)\n",
    "train_target_L = usersl_train['is_ultra']\n",
    "test_features_L = usersl_test.drop('is_ultra', axis = 1)\n",
    "test_target_L = usersl_test['is_ultra']\n",
    "\n",
    "logistic_reg_model = LogisticRegression(random_state = 8)\n",
    "logistic_reg_model.fit(train_features_L, train_target_L)\n",
    "prediction_test = logistic_reg_model.predict(test_features_L)\n",
    "accuracy = accuracy_score(test_target_L, prediction_test)\n",
    "print(f'Значение accuracy для модели LogisticRegression на тестовой выборке = {accuracy}')"
   ]
  },
  {
   "cell_type": "markdown",
   "metadata": {},
   "source": [
    "Эта модель не проходит по требованиям accuracy"
   ]
  },
  {
   "cell_type": "markdown",
   "metadata": {},
   "source": [
    "**Вывод**\n",
    "\n",
    "Лучшая по качеству (accuracy) модель - это RandomForest (accuracy = 0.790), однако она и самая медленная по скорости работы. Следующая по качеству модель - это DecisionTree с значением accuracy = 0.77 с высокой скоростью работы и на третьем месте - LogisticRegression с значением 0.74, которая не удовлетворяет требованиям задачи, однако не требует почти никаких усилий по обучению (не требуется определение оптимальных гиперпараметров) и отличается высокой скоростью работы. \n",
    "\n",
    "Для использования в практических целях предлагается модель RandomForest, поскольку в данном случае качество - это самый важный критерий для бизнеса: чем выше качество, тем больше прибыли приносит продукт."
   ]
  },
  {
   "cell_type": "markdown",
   "metadata": {},
   "source": [
    "## (бонус) Проверьте модели на адекватность"
   ]
  },
  {
   "cell_type": "markdown",
   "metadata": {},
   "source": [
    "Проверку модели на адекватность будем проводить с помощью фиктивного классификатора DummyClassifier, который в процессе обучения не определяет зависимости между параметрами и целевым параметром, а на основе только целевых параметров тренировочной выборки строит предположения о целевом параметре всех остальных данных, которые будут подаваться на вход после обучения. Этот классификатор удобно использовать, например, для несбалансированных данных, когда пользователей одного тарифа больше. Тогда этот классификатор определит наиболее часто встречающийся тариф и в качестве ответа будет всегда давать его. Чтобы оценить модель на адекватность нужно сравнить величины accuracy для настоящих и фиктивных моделей."
   ]
  },
  {
   "cell_type": "code",
   "execution_count": 10,
   "metadata": {},
   "outputs": [
    {
     "name": "stdout",
     "output_type": "stream",
     "text": [
      "Величина accuracy для модели DummyClassifier на тестовой выборке 0.6920684292379471\n"
     ]
    }
   ],
   "source": [
    "dummy_model = DummyClassifier(strategy = 'most_frequent', random_state = 8)\n",
    "dummy_model.fit(train_features, train_target)\n",
    "prediction_test = dummy_model.predict(test_features)\n",
    "print('Величина accuracy для модели DummyClassifier на тестовой выборке', accuracy_score(test_target, prediction_test))"
   ]
  },
  {
   "cell_type": "markdown",
   "metadata": {},
   "source": [
    "Для модели LogisticRegression было использовано другое разделение данных, поэтому посмотрим также на них"
   ]
  },
  {
   "cell_type": "code",
   "execution_count": 11,
   "metadata": {},
   "outputs": [
    {
     "name": "stdout",
     "output_type": "stream",
     "text": [
      "Величина accuracy для модели DummyClassifier на тестовой выборке 0.6990049751243781\n"
     ]
    }
   ],
   "source": [
    "dummy_model = DummyClassifier(strategy = 'most_frequent', random_state = 8)\n",
    "dummy_model.fit(train_features_L, train_target_L)\n",
    "prediction_test = dummy_model.predict(test_features_L)\n",
    "print('Величина accuracy для модели DummyClassifier на тестовой выборке', accuracy_score(test_target_L, prediction_test))"
   ]
  },
  {
   "cell_type": "markdown",
   "metadata": {},
   "source": [
    "**Вывод**\n",
    "\n",
    "Все модели прошли проверку на адекватность так как показали величину accuracy больше, чем фиктивная модель, которая просто определяла наиболее частый целевой признак."
   ]
  }
 ],
 "metadata": {
  "ExecuteTimeLog": [
   {
    "duration": 265,
    "start_time": "2022-01-26T15:06:38.252Z"
   },
   {
    "duration": 1081,
    "start_time": "2022-01-26T15:06:41.052Z"
   },
   {
    "duration": 18,
    "start_time": "2022-01-26T15:06:42.236Z"
   },
   {
    "duration": 31,
    "start_time": "2022-01-26T15:07:18.654Z"
   },
   {
    "duration": 37,
    "start_time": "2022-01-26T15:09:53.252Z"
   },
   {
    "duration": 45,
    "start_time": "2022-01-26T15:10:02.969Z"
   },
   {
    "duration": 50,
    "start_time": "2022-01-26T20:30:11.451Z"
   },
   {
    "duration": 279,
    "start_time": "2022-01-26T21:13:38.364Z"
   },
   {
    "duration": 9,
    "start_time": "2022-01-26T21:13:53.827Z"
   },
   {
    "duration": 6,
    "start_time": "2022-01-26T21:17:45.934Z"
   },
   {
    "duration": 3,
    "start_time": "2022-01-26T21:22:33.359Z"
   },
   {
    "duration": 401,
    "start_time": "2022-01-26T21:37:54.562Z"
   },
   {
    "duration": 888,
    "start_time": "2022-01-26T21:38:37.290Z"
   },
   {
    "duration": 2713,
    "start_time": "2022-01-26T21:38:55.370Z"
   },
   {
    "duration": 1115,
    "start_time": "2022-01-26T21:39:30.449Z"
   },
   {
    "duration": 57,
    "start_time": "2022-01-26T21:39:31.566Z"
   },
   {
    "duration": 8,
    "start_time": "2022-01-26T21:39:31.625Z"
   },
   {
    "duration": 5,
    "start_time": "2022-01-26T21:39:31.635Z"
   },
   {
    "duration": 2898,
    "start_time": "2022-01-26T21:39:31.642Z"
   },
   {
    "duration": 434,
    "start_time": "2022-01-26T21:40:11.542Z"
   },
   {
    "duration": 933,
    "start_time": "2022-01-26T21:40:21.450Z"
   },
   {
    "duration": 990,
    "start_time": "2022-01-26T21:40:45.275Z"
   },
   {
    "duration": 1047,
    "start_time": "2022-01-26T21:41:30.065Z"
   },
   {
    "duration": 943,
    "start_time": "2022-01-26T21:42:15.667Z"
   },
   {
    "duration": 1073,
    "start_time": "2022-01-26T21:42:39.675Z"
   },
   {
    "duration": 62,
    "start_time": "2022-01-26T21:42:40.750Z"
   },
   {
    "duration": 9,
    "start_time": "2022-01-26T21:42:40.815Z"
   },
   {
    "duration": 7,
    "start_time": "2022-01-26T21:42:40.826Z"
   },
   {
    "duration": 932,
    "start_time": "2022-01-26T21:42:40.835Z"
   },
   {
    "duration": 1116,
    "start_time": "2022-01-26T21:42:53.298Z"
   },
   {
    "duration": 60,
    "start_time": "2022-01-26T21:42:54.415Z"
   },
   {
    "duration": 7,
    "start_time": "2022-01-26T21:42:54.477Z"
   },
   {
    "duration": 18,
    "start_time": "2022-01-26T21:42:54.486Z"
   },
   {
    "duration": 444,
    "start_time": "2022-01-26T21:42:54.505Z"
   },
   {
    "duration": 325,
    "start_time": "2022-01-26T21:51:49.392Z"
   },
   {
    "duration": 3591,
    "start_time": "2022-01-26T21:52:15.269Z"
   },
   {
    "duration": 3537,
    "start_time": "2022-01-26T21:52:34.743Z"
   },
   {
    "duration": 31098,
    "start_time": "2022-01-26T21:53:04.227Z"
   },
   {
    "duration": 34274,
    "start_time": "2022-01-26T21:53:50.258Z"
   },
   {
    "duration": 1096,
    "start_time": "2022-01-26T21:55:25.569Z"
   },
   {
    "duration": 60,
    "start_time": "2022-01-26T21:55:26.667Z"
   },
   {
    "duration": 8,
    "start_time": "2022-01-26T21:55:26.731Z"
   },
   {
    "duration": 11,
    "start_time": "2022-01-26T21:55:26.741Z"
   },
   {
    "duration": 464,
    "start_time": "2022-01-26T21:55:26.753Z"
   },
   {
    "duration": 30962,
    "start_time": "2022-01-26T21:55:27.218Z"
   },
   {
    "duration": 332,
    "start_time": "2022-01-26T22:00:36.919Z"
   },
   {
    "duration": 31726,
    "start_time": "2022-01-26T22:00:50.436Z"
   },
   {
    "duration": 24923,
    "start_time": "2022-01-26T22:02:15.607Z"
   },
   {
    "duration": 25807,
    "start_time": "2022-01-26T22:02:47.742Z"
   },
   {
    "duration": 30146,
    "start_time": "2022-01-26T22:04:32.859Z"
   },
   {
    "duration": 30160,
    "start_time": "2022-01-26T22:06:15.456Z"
   },
   {
    "duration": 12,
    "start_time": "2022-01-26T22:19:49.839Z"
   },
   {
    "duration": 1066,
    "start_time": "2022-01-26T22:20:47.563Z"
   },
   {
    "duration": 57,
    "start_time": "2022-01-26T22:20:48.631Z"
   },
   {
    "duration": 15,
    "start_time": "2022-01-26T22:20:48.690Z"
   },
   {
    "duration": 6,
    "start_time": "2022-01-26T22:20:48.707Z"
   },
   {
    "duration": 447,
    "start_time": "2022-01-26T22:20:48.715Z"
   },
   {
    "duration": 28912,
    "start_time": "2022-01-26T22:20:49.164Z"
   },
   {
    "duration": 10,
    "start_time": "2022-01-26T22:21:18.078Z"
   },
   {
    "duration": 168,
    "start_time": "2022-01-26T22:21:18.090Z"
   },
   {
    "duration": 32,
    "start_time": "2022-01-26T22:22:37.389Z"
   },
   {
    "duration": 1011,
    "start_time": "2022-01-26T22:22:56.834Z"
   },
   {
    "duration": 56,
    "start_time": "2022-01-26T22:22:57.846Z"
   },
   {
    "duration": 7,
    "start_time": "2022-01-26T22:22:57.904Z"
   },
   {
    "duration": 6,
    "start_time": "2022-01-26T22:22:57.913Z"
   },
   {
    "duration": 441,
    "start_time": "2022-01-26T22:22:57.921Z"
   },
   {
    "duration": 29214,
    "start_time": "2022-01-26T22:22:58.364Z"
   },
   {
    "duration": 18,
    "start_time": "2022-01-26T22:23:27.580Z"
   },
   {
    "duration": 29,
    "start_time": "2022-01-26T22:23:27.600Z"
   },
   {
    "duration": 1069,
    "start_time": "2022-01-26T22:24:13.982Z"
   },
   {
    "duration": 60,
    "start_time": "2022-01-26T22:24:15.053Z"
   },
   {
    "duration": 9,
    "start_time": "2022-01-26T22:24:15.117Z"
   },
   {
    "duration": 11,
    "start_time": "2022-01-26T22:24:15.127Z"
   },
   {
    "duration": 462,
    "start_time": "2022-01-26T22:24:15.139Z"
   },
   {
    "duration": 29108,
    "start_time": "2022-01-26T22:24:15.603Z"
   },
   {
    "duration": 11,
    "start_time": "2022-01-26T22:24:44.714Z"
   },
   {
    "duration": 31,
    "start_time": "2022-01-26T22:24:44.727Z"
   },
   {
    "duration": 315,
    "start_time": "2022-01-26T22:30:44.414Z"
   },
   {
    "duration": 251,
    "start_time": "2022-01-26T22:31:17.725Z"
   },
   {
    "duration": 221,
    "start_time": "2022-01-26T22:32:32.638Z"
   },
   {
    "duration": 241,
    "start_time": "2022-01-26T22:32:40.740Z"
   },
   {
    "duration": 15,
    "start_time": "2022-01-26T22:32:56.654Z"
   },
   {
    "duration": 15,
    "start_time": "2022-01-26T22:33:23.485Z"
   },
   {
    "duration": 13,
    "start_time": "2022-01-26T22:33:32.905Z"
   },
   {
    "duration": 16,
    "start_time": "2022-01-26T22:33:35.910Z"
   },
   {
    "duration": 18,
    "start_time": "2022-01-26T22:33:39.899Z"
   },
   {
    "duration": 17,
    "start_time": "2022-01-26T22:33:44.614Z"
   },
   {
    "duration": 14,
    "start_time": "2022-01-26T22:33:49.449Z"
   },
   {
    "duration": 17,
    "start_time": "2022-01-26T22:33:54.093Z"
   },
   {
    "duration": 15,
    "start_time": "2022-01-26T22:33:57.373Z"
   },
   {
    "duration": 20,
    "start_time": "2022-01-26T22:33:58.438Z"
   },
   {
    "duration": 19,
    "start_time": "2022-01-26T22:33:59.504Z"
   },
   {
    "duration": 15,
    "start_time": "2022-01-26T22:34:10.966Z"
   },
   {
    "duration": 14,
    "start_time": "2022-01-26T22:34:14.015Z"
   },
   {
    "duration": 16,
    "start_time": "2022-01-26T22:34:15.229Z"
   },
   {
    "duration": 16,
    "start_time": "2022-01-26T22:34:16.498Z"
   },
   {
    "duration": 17,
    "start_time": "2022-01-26T22:34:17.667Z"
   },
   {
    "duration": 16,
    "start_time": "2022-01-26T22:34:18.823Z"
   },
   {
    "duration": 16,
    "start_time": "2022-01-26T22:34:19.687Z"
   },
   {
    "duration": 16,
    "start_time": "2022-01-26T22:34:20.736Z"
   },
   {
    "duration": 15,
    "start_time": "2022-01-26T22:34:21.880Z"
   },
   {
    "duration": 1123,
    "start_time": "2022-01-26T22:40:36.574Z"
   },
   {
    "duration": 59,
    "start_time": "2022-01-26T22:40:37.699Z"
   },
   {
    "duration": 8,
    "start_time": "2022-01-26T22:40:37.760Z"
   },
   {
    "duration": 6,
    "start_time": "2022-01-26T22:40:37.770Z"
   },
   {
    "duration": 473,
    "start_time": "2022-01-26T22:40:37.778Z"
   },
   {
    "duration": 30306,
    "start_time": "2022-01-26T22:40:38.253Z"
   },
   {
    "duration": 11,
    "start_time": "2022-01-26T22:41:08.561Z"
   },
   {
    "duration": 45,
    "start_time": "2022-01-26T22:41:08.574Z"
   },
   {
    "duration": 17,
    "start_time": "2022-01-26T22:41:08.621Z"
   },
   {
    "duration": 311,
    "start_time": "2022-01-26T22:49:23.182Z"
   },
   {
    "duration": 7,
    "start_time": "2022-01-26T22:50:08.059Z"
   },
   {
    "duration": 5,
    "start_time": "2022-01-26T22:51:02.089Z"
   },
   {
    "duration": 7,
    "start_time": "2022-01-26T22:51:21.756Z"
   },
   {
    "duration": 7,
    "start_time": "2022-01-26T22:51:23.870Z"
   },
   {
    "duration": 1073,
    "start_time": "2022-01-26T22:52:14.573Z"
   },
   {
    "duration": 56,
    "start_time": "2022-01-26T22:52:15.648Z"
   },
   {
    "duration": 7,
    "start_time": "2022-01-26T22:52:15.706Z"
   },
   {
    "duration": 5,
    "start_time": "2022-01-26T22:52:15.715Z"
   },
   {
    "duration": 425,
    "start_time": "2022-01-26T22:52:15.722Z"
   },
   {
    "duration": 28687,
    "start_time": "2022-01-26T22:52:16.148Z"
   },
   {
    "duration": 11,
    "start_time": "2022-01-26T22:52:44.836Z"
   },
   {
    "duration": 35,
    "start_time": "2022-01-26T22:52:44.849Z"
   },
   {
    "duration": 27,
    "start_time": "2022-01-26T22:52:44.885Z"
   },
   {
    "duration": 5,
    "start_time": "2022-01-26T22:52:44.914Z"
   },
   {
    "duration": 5,
    "start_time": "2022-01-26T22:52:44.920Z"
   },
   {
    "duration": 1051,
    "start_time": "2022-01-26T22:53:22.398Z"
   },
   {
    "duration": 57,
    "start_time": "2022-01-26T22:53:23.450Z"
   },
   {
    "duration": 8,
    "start_time": "2022-01-26T22:53:23.509Z"
   },
   {
    "duration": 9,
    "start_time": "2022-01-26T22:53:23.519Z"
   },
   {
    "duration": 470,
    "start_time": "2022-01-26T22:53:23.529Z"
   },
   {
    "duration": 46226,
    "start_time": "2022-01-26T22:53:24.001Z"
   },
   {
    "duration": 10,
    "start_time": "2022-01-26T22:54:10.229Z"
   },
   {
    "duration": 37,
    "start_time": "2022-01-26T22:54:10.242Z"
   },
   {
    "duration": 26,
    "start_time": "2022-01-26T22:54:10.281Z"
   },
   {
    "duration": 9,
    "start_time": "2022-01-26T22:54:10.308Z"
   },
   {
    "duration": 14,
    "start_time": "2022-01-26T22:54:10.318Z"
   },
   {
    "duration": 1100,
    "start_time": "2022-01-26T22:55:43.073Z"
   },
   {
    "duration": 56,
    "start_time": "2022-01-26T22:55:44.174Z"
   },
   {
    "duration": 8,
    "start_time": "2022-01-26T22:55:44.232Z"
   },
   {
    "duration": 6,
    "start_time": "2022-01-26T22:55:44.242Z"
   },
   {
    "duration": 430,
    "start_time": "2022-01-26T22:55:44.250Z"
   },
   {
    "duration": 45434,
    "start_time": "2022-01-26T22:55:44.682Z"
   },
   {
    "duration": 11,
    "start_time": "2022-01-26T22:56:30.118Z"
   },
   {
    "duration": 36,
    "start_time": "2022-01-26T22:56:30.130Z"
   },
   {
    "duration": 40,
    "start_time": "2022-01-26T22:56:30.168Z"
   },
   {
    "duration": 5,
    "start_time": "2022-01-26T22:56:30.210Z"
   },
   {
    "duration": 12,
    "start_time": "2022-01-26T22:56:30.217Z"
   }
  ],
  "kernelspec": {
   "display_name": "Python 3 (ipykernel)",
   "language": "python",
   "name": "python3"
  },
  "language_info": {
   "codemirror_mode": {
    "name": "ipython",
    "version": 3
   },
   "file_extension": ".py",
   "mimetype": "text/x-python",
   "name": "python",
   "nbconvert_exporter": "python",
   "pygments_lexer": "ipython3",
   "version": "3.9.20"
  },
  "toc": {
   "base_numbering": 1,
   "nav_menu": {},
   "number_sections": true,
   "sideBar": true,
   "skip_h1_title": true,
   "title_cell": "Table of Contents",
   "title_sidebar": "Contents",
   "toc_cell": false,
   "toc_position": {},
   "toc_section_display": true,
   "toc_window_display": false
  }
 },
 "nbformat": 4,
 "nbformat_minor": 4
}
